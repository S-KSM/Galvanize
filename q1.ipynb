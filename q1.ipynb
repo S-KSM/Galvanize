{
 "cells": [
  {
   "cell_type": "markdown",
   "metadata": {},
   "source": [
    "# q1"
   ]
  },
  {
   "cell_type": "code",
   "execution_count": 56,
   "metadata": {
    "collapsed": true
   },
   "outputs": [],
   "source": [
    "from nltk.tokenize import sent_tokenize\n",
    "from nltk.tokenize import word_tokenize\n",
    "\n",
    "import string\n",
    "import numpy as np\n",
    "import sys"
   ]
  },
  {
   "cell_type": "code",
   "execution_count": null,
   "metadata": {
    "collapsed": true
   },
   "outputs": [],
   "source": []
  },
  {
   "cell_type": "code",
   "execution_count": 57,
   "metadata": {
    "collapsed": true
   },
   "outputs": [],
   "source": [
    "def analyze_txt(a = 'pg52670.txt'):\n",
    "    text = open(a).read()\n",
    "    words = word_tokenize(text)\n",
    "    words = [i for i in words if not i in string.punctuation]\n",
    "    sentences = sent_tokenize(text)\n",
    "    uniquewords = set(words)\n",
    "    print(\"Total word count: %d\\nUnique words: %d\\nSentences: %d\" %(len(words),len(uniquewords),len(sentences)))\n",
    "    print(\"The average number of words per line: %d\" %np.round(np.mean([len(i.split(\" \")) for i in sentences])))\n",
    "    \n",
    "    "
   ]
  },
  {
   "cell_type": "code",
   "execution_count": 51,
   "metadata": {
    "collapsed": false
   },
   "outputs": [],
   "source": [
    "frequency_word = nltk.probability.FreqDist(text)"
   ]
  },
  {
   "cell_type": "code",
   "execution_count": 55,
   "metadata": {
    "collapsed": false
   },
   "outputs": [],
   "source": [
    "frequency_word.plot()"
   ]
  },
  {
   "cell_type": "markdown",
   "metadata": {},
   "source": [
    "# q2"
   ]
  },
  {
   "cell_type": "markdown",
   "metadata": {},
   "source": [
    "<code>\n",
    "SELECT Salesperson.Name \n",
    "FROM Salesperson, Orders\n",
    "WHERE\n",
    "Salesperson.ID = Orders.salesperson_id\n",
    "GROUP BY Orders.salesperson_id\n",
    "HAVING COUNT(Orders.salesperson_id) > 1\n",
    ";\n",
    "</code>"
   ]
  },
  {
   "cell_type": "code",
   "execution_count": null,
   "metadata": {
    "collapsed": true
   },
   "outputs": [],
   "source": []
  }
 ],
 "metadata": {
  "kernelspec": {
   "display_name": "Python 3",
   "language": "python",
   "name": "python3"
  },
  "language_info": {
   "codemirror_mode": {
    "name": "ipython",
    "version": 3
   },
   "file_extension": ".py",
   "mimetype": "text/x-python",
   "name": "python",
   "nbconvert_exporter": "python",
   "pygments_lexer": "ipython3",
   "version": "3.5.1"
  }
 },
 "nbformat": 4,
 "nbformat_minor": 0
}
